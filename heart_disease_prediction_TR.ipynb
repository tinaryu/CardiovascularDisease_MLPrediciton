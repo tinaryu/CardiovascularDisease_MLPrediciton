{
  "cells": [
    {
      "cell_type": "code",
      "execution_count": 53,
      "metadata": {},
      "outputs": [],
      "source": [
        "import numpy as np\n",
        "import pandas as pd\n"
      ]
    },
    {
      "cell_type": "markdown",
      "metadata": {},
      "source": [
        "# EDA, cleaning"
      ]
    },
    {
      "cell_type": "code",
      "execution_count": 1,
      "metadata": {
        "colab": {
          "base_uri": "https://localhost:8080/",
          "height": 245
        },
        "id": "nBWUzUDPKGVg",
        "outputId": "653f8972-9a84-4e51-e04a-95b745a84850"
      },
      "outputs": [
        {
          "data": {
            "text/html": [
              "<div>\n",
              "<style scoped>\n",
              "    .dataframe tbody tr th:only-of-type {\n",
              "        vertical-align: middle;\n",
              "    }\n",
              "\n",
              "    .dataframe tbody tr th {\n",
              "        vertical-align: top;\n",
              "    }\n",
              "\n",
              "    .dataframe thead th {\n",
              "        text-align: right;\n",
              "    }\n",
              "</style>\n",
              "<table border=\"1\" class=\"dataframe\">\n",
              "  <thead>\n",
              "    <tr style=\"text-align: right;\">\n",
              "      <th></th>\n",
              "      <th>_STATE</th>\n",
              "      <th>FMONTH</th>\n",
              "      <th>IDATE</th>\n",
              "      <th>IMONTH</th>\n",
              "      <th>IDAY</th>\n",
              "      <th>IYEAR</th>\n",
              "      <th>DISPCODE</th>\n",
              "      <th>SEQNO</th>\n",
              "      <th>_PSU</th>\n",
              "      <th>CTELENM1</th>\n",
              "      <th>...</th>\n",
              "      <th>DROCDY4_</th>\n",
              "      <th>_RFBING6</th>\n",
              "      <th>_DRNKWK2</th>\n",
              "      <th>_RFDRHV8</th>\n",
              "      <th>_FLSHOT7</th>\n",
              "      <th>_PNEUMO3</th>\n",
              "      <th>_AIDTST4</th>\n",
              "      <th>_RFSEAT2</th>\n",
              "      <th>_RFSEAT3</th>\n",
              "      <th>_DRNKDRV</th>\n",
              "    </tr>\n",
              "  </thead>\n",
              "  <tbody>\n",
              "    <tr>\n",
              "      <th>0</th>\n",
              "      <td>1.0</td>\n",
              "      <td>1.0</td>\n",
              "      <td>3012023</td>\n",
              "      <td>3</td>\n",
              "      <td>1</td>\n",
              "      <td>2023</td>\n",
              "      <td>1100.0</td>\n",
              "      <td>2023000001</td>\n",
              "      <td>2.023000e+09</td>\n",
              "      <td>1.0</td>\n",
              "      <td>...</td>\n",
              "      <td>5.397605e-79</td>\n",
              "      <td>1.0</td>\n",
              "      <td>5.397605e-79</td>\n",
              "      <td>1.0</td>\n",
              "      <td>2.0</td>\n",
              "      <td>2.0</td>\n",
              "      <td>2.0</td>\n",
              "      <td>1.0</td>\n",
              "      <td>1.0</td>\n",
              "      <td>9.0</td>\n",
              "    </tr>\n",
              "    <tr>\n",
              "      <th>1</th>\n",
              "      <td>1.0</td>\n",
              "      <td>1.0</td>\n",
              "      <td>1062023</td>\n",
              "      <td>1</td>\n",
              "      <td>6</td>\n",
              "      <td>2023</td>\n",
              "      <td>1100.0</td>\n",
              "      <td>2023000002</td>\n",
              "      <td>2.023000e+09</td>\n",
              "      <td>1.0</td>\n",
              "      <td>...</td>\n",
              "      <td>5.397605e-79</td>\n",
              "      <td>1.0</td>\n",
              "      <td>5.397605e-79</td>\n",
              "      <td>1.0</td>\n",
              "      <td>1.0</td>\n",
              "      <td>1.0</td>\n",
              "      <td>2.0</td>\n",
              "      <td>1.0</td>\n",
              "      <td>1.0</td>\n",
              "      <td>9.0</td>\n",
              "    </tr>\n",
              "    <tr>\n",
              "      <th>2</th>\n",
              "      <td>1.0</td>\n",
              "      <td>1.0</td>\n",
              "      <td>3082023</td>\n",
              "      <td>3</td>\n",
              "      <td>8</td>\n",
              "      <td>2023</td>\n",
              "      <td>1100.0</td>\n",
              "      <td>2023000003</td>\n",
              "      <td>2.023000e+09</td>\n",
              "      <td>1.0</td>\n",
              "      <td>...</td>\n",
              "      <td>5.397605e-79</td>\n",
              "      <td>1.0</td>\n",
              "      <td>5.397605e-79</td>\n",
              "      <td>1.0</td>\n",
              "      <td>1.0</td>\n",
              "      <td>1.0</td>\n",
              "      <td>2.0</td>\n",
              "      <td>1.0</td>\n",
              "      <td>1.0</td>\n",
              "      <td>9.0</td>\n",
              "    </tr>\n",
              "    <tr>\n",
              "      <th>3</th>\n",
              "      <td>1.0</td>\n",
              "      <td>1.0</td>\n",
              "      <td>3062023</td>\n",
              "      <td>3</td>\n",
              "      <td>6</td>\n",
              "      <td>2023</td>\n",
              "      <td>1100.0</td>\n",
              "      <td>2023000004</td>\n",
              "      <td>2.023000e+09</td>\n",
              "      <td>1.0</td>\n",
              "      <td>...</td>\n",
              "      <td>5.397605e-79</td>\n",
              "      <td>1.0</td>\n",
              "      <td>5.397605e-79</td>\n",
              "      <td>1.0</td>\n",
              "      <td>1.0</td>\n",
              "      <td>1.0</td>\n",
              "      <td>1.0</td>\n",
              "      <td>1.0</td>\n",
              "      <td>1.0</td>\n",
              "      <td>9.0</td>\n",
              "    </tr>\n",
              "    <tr>\n",
              "      <th>4</th>\n",
              "      <td>1.0</td>\n",
              "      <td>1.0</td>\n",
              "      <td>1062023</td>\n",
              "      <td>1</td>\n",
              "      <td>6</td>\n",
              "      <td>2023</td>\n",
              "      <td>1100.0</td>\n",
              "      <td>2023000005</td>\n",
              "      <td>2.023000e+09</td>\n",
              "      <td>1.0</td>\n",
              "      <td>...</td>\n",
              "      <td>7.000000e+00</td>\n",
              "      <td>1.0</td>\n",
              "      <td>4.700000e+01</td>\n",
              "      <td>1.0</td>\n",
              "      <td>2.0</td>\n",
              "      <td>1.0</td>\n",
              "      <td>2.0</td>\n",
              "      <td>1.0</td>\n",
              "      <td>1.0</td>\n",
              "      <td>2.0</td>\n",
              "    </tr>\n",
              "    <tr>\n",
              "      <th>...</th>\n",
              "      <td>...</td>\n",
              "      <td>...</td>\n",
              "      <td>...</td>\n",
              "      <td>...</td>\n",
              "      <td>...</td>\n",
              "      <td>...</td>\n",
              "      <td>...</td>\n",
              "      <td>...</td>\n",
              "      <td>...</td>\n",
              "      <td>...</td>\n",
              "      <td>...</td>\n",
              "      <td>...</td>\n",
              "      <td>...</td>\n",
              "      <td>...</td>\n",
              "      <td>...</td>\n",
              "      <td>...</td>\n",
              "      <td>...</td>\n",
              "      <td>...</td>\n",
              "      <td>...</td>\n",
              "      <td>...</td>\n",
              "      <td>...</td>\n",
              "    </tr>\n",
              "    <tr>\n",
              "      <th>433318</th>\n",
              "      <td>78.0</td>\n",
              "      <td>12.0</td>\n",
              "      <td>12112023</td>\n",
              "      <td>12</td>\n",
              "      <td>11</td>\n",
              "      <td>2023</td>\n",
              "      <td>1100.0</td>\n",
              "      <td>2023002064</td>\n",
              "      <td>2.023002e+09</td>\n",
              "      <td>NaN</td>\n",
              "      <td>...</td>\n",
              "      <td>7.100000e+01</td>\n",
              "      <td>2.0</td>\n",
              "      <td>1.500000e+03</td>\n",
              "      <td>2.0</td>\n",
              "      <td>2.0</td>\n",
              "      <td>2.0</td>\n",
              "      <td>1.0</td>\n",
              "      <td>1.0</td>\n",
              "      <td>2.0</td>\n",
              "      <td>2.0</td>\n",
              "    </tr>\n",
              "    <tr>\n",
              "      <th>433319</th>\n",
              "      <td>78.0</td>\n",
              "      <td>12.0</td>\n",
              "      <td>1032024</td>\n",
              "      <td>1</td>\n",
              "      <td>3</td>\n",
              "      <td>2024</td>\n",
              "      <td>1100.0</td>\n",
              "      <td>2023002065</td>\n",
              "      <td>2.023002e+09</td>\n",
              "      <td>NaN</td>\n",
              "      <td>...</td>\n",
              "      <td>5.397605e-79</td>\n",
              "      <td>1.0</td>\n",
              "      <td>5.397605e-79</td>\n",
              "      <td>1.0</td>\n",
              "      <td>NaN</td>\n",
              "      <td>NaN</td>\n",
              "      <td>1.0</td>\n",
              "      <td>1.0</td>\n",
              "      <td>1.0</td>\n",
              "      <td>9.0</td>\n",
              "    </tr>\n",
              "    <tr>\n",
              "      <th>433320</th>\n",
              "      <td>78.0</td>\n",
              "      <td>12.0</td>\n",
              "      <td>12132023</td>\n",
              "      <td>12</td>\n",
              "      <td>13</td>\n",
              "      <td>2023</td>\n",
              "      <td>1100.0</td>\n",
              "      <td>2023002066</td>\n",
              "      <td>2.023002e+09</td>\n",
              "      <td>NaN</td>\n",
              "      <td>...</td>\n",
              "      <td>3.000000e+00</td>\n",
              "      <td>1.0</td>\n",
              "      <td>4.700000e+01</td>\n",
              "      <td>1.0</td>\n",
              "      <td>NaN</td>\n",
              "      <td>NaN</td>\n",
              "      <td>1.0</td>\n",
              "      <td>1.0</td>\n",
              "      <td>1.0</td>\n",
              "      <td>2.0</td>\n",
              "    </tr>\n",
              "    <tr>\n",
              "      <th>433321</th>\n",
              "      <td>78.0</td>\n",
              "      <td>12.0</td>\n",
              "      <td>12082023</td>\n",
              "      <td>12</td>\n",
              "      <td>8</td>\n",
              "      <td>2023</td>\n",
              "      <td>1100.0</td>\n",
              "      <td>2023002067</td>\n",
              "      <td>2.023002e+09</td>\n",
              "      <td>NaN</td>\n",
              "      <td>...</td>\n",
              "      <td>5.397605e-79</td>\n",
              "      <td>1.0</td>\n",
              "      <td>5.397605e-79</td>\n",
              "      <td>1.0</td>\n",
              "      <td>2.0</td>\n",
              "      <td>2.0</td>\n",
              "      <td>2.0</td>\n",
              "      <td>1.0</td>\n",
              "      <td>1.0</td>\n",
              "      <td>9.0</td>\n",
              "    </tr>\n",
              "    <tr>\n",
              "      <th>433322</th>\n",
              "      <td>78.0</td>\n",
              "      <td>12.0</td>\n",
              "      <td>12112023</td>\n",
              "      <td>12</td>\n",
              "      <td>11</td>\n",
              "      <td>2023</td>\n",
              "      <td>1100.0</td>\n",
              "      <td>2023002068</td>\n",
              "      <td>2.023002e+09</td>\n",
              "      <td>NaN</td>\n",
              "      <td>...</td>\n",
              "      <td>6.700000e+01</td>\n",
              "      <td>2.0</td>\n",
              "      <td>9.330000e+02</td>\n",
              "      <td>1.0</td>\n",
              "      <td>NaN</td>\n",
              "      <td>NaN</td>\n",
              "      <td>2.0</td>\n",
              "      <td>1.0</td>\n",
              "      <td>2.0</td>\n",
              "      <td>2.0</td>\n",
              "    </tr>\n",
              "  </tbody>\n",
              "</table>\n",
              "<p>433323 rows × 350 columns</p>\n",
              "</div>"
            ],
            "text/plain": [
              "        _STATE  FMONTH     IDATE  IMONTH  IDAY  IYEAR  DISPCODE       SEQNO  \\\n",
              "0          1.0     1.0   3012023       3     1   2023    1100.0  2023000001   \n",
              "1          1.0     1.0   1062023       1     6   2023    1100.0  2023000002   \n",
              "2          1.0     1.0   3082023       3     8   2023    1100.0  2023000003   \n",
              "3          1.0     1.0   3062023       3     6   2023    1100.0  2023000004   \n",
              "4          1.0     1.0   1062023       1     6   2023    1100.0  2023000005   \n",
              "...        ...     ...       ...     ...   ...    ...       ...         ...   \n",
              "433318    78.0    12.0  12112023      12    11   2023    1100.0  2023002064   \n",
              "433319    78.0    12.0   1032024       1     3   2024    1100.0  2023002065   \n",
              "433320    78.0    12.0  12132023      12    13   2023    1100.0  2023002066   \n",
              "433321    78.0    12.0  12082023      12     8   2023    1100.0  2023002067   \n",
              "433322    78.0    12.0  12112023      12    11   2023    1100.0  2023002068   \n",
              "\n",
              "                _PSU  CTELENM1  ...      DROCDY4_  _RFBING6      _DRNKWK2  \\\n",
              "0       2.023000e+09       1.0  ...  5.397605e-79       1.0  5.397605e-79   \n",
              "1       2.023000e+09       1.0  ...  5.397605e-79       1.0  5.397605e-79   \n",
              "2       2.023000e+09       1.0  ...  5.397605e-79       1.0  5.397605e-79   \n",
              "3       2.023000e+09       1.0  ...  5.397605e-79       1.0  5.397605e-79   \n",
              "4       2.023000e+09       1.0  ...  7.000000e+00       1.0  4.700000e+01   \n",
              "...              ...       ...  ...           ...       ...           ...   \n",
              "433318  2.023002e+09       NaN  ...  7.100000e+01       2.0  1.500000e+03   \n",
              "433319  2.023002e+09       NaN  ...  5.397605e-79       1.0  5.397605e-79   \n",
              "433320  2.023002e+09       NaN  ...  3.000000e+00       1.0  4.700000e+01   \n",
              "433321  2.023002e+09       NaN  ...  5.397605e-79       1.0  5.397605e-79   \n",
              "433322  2.023002e+09       NaN  ...  6.700000e+01       2.0  9.330000e+02   \n",
              "\n",
              "        _RFDRHV8  _FLSHOT7  _PNEUMO3  _AIDTST4  _RFSEAT2  _RFSEAT3  _DRNKDRV  \n",
              "0            1.0       2.0       2.0       2.0       1.0       1.0       9.0  \n",
              "1            1.0       1.0       1.0       2.0       1.0       1.0       9.0  \n",
              "2            1.0       1.0       1.0       2.0       1.0       1.0       9.0  \n",
              "3            1.0       1.0       1.0       1.0       1.0       1.0       9.0  \n",
              "4            1.0       2.0       1.0       2.0       1.0       1.0       2.0  \n",
              "...          ...       ...       ...       ...       ...       ...       ...  \n",
              "433318       2.0       2.0       2.0       1.0       1.0       2.0       2.0  \n",
              "433319       1.0       NaN       NaN       1.0       1.0       1.0       9.0  \n",
              "433320       1.0       NaN       NaN       1.0       1.0       1.0       2.0  \n",
              "433321       1.0       2.0       2.0       2.0       1.0       1.0       9.0  \n",
              "433322       1.0       NaN       NaN       2.0       1.0       2.0       2.0  \n",
              "\n",
              "[433323 rows x 350 columns]"
            ]
          },
          "execution_count": 1,
          "metadata": {},
          "output_type": "execute_result"
        }
      ],
      "source": [
        "df = pd.read_csv('LLCP2023.csv')"
      ]
    },
    {
      "cell_type": "code",
      "execution_count": 159,
      "metadata": {},
      "outputs": [],
      "source": [
        "df = df.loc[:,'_RFHLTH':] #only keep the 76 calculated variables"
      ]
    },
    {
      "cell_type": "code",
      "execution_count": 43,
      "metadata": {},
      "outputs": [
        {
          "data": {
            "text/plain": [
              "np.float64(0.053221269122571385)"
            ]
          },
          "execution_count": 43,
          "metadata": {},
          "output_type": "execute_result"
        }
      ],
      "source": [
        "df['_RFSMOK3'].astype(str).str.count('9').sum()/433323"
      ]
    },
    {
      "cell_type": "code",
      "execution_count": 62,
      "metadata": {},
      "outputs": [
        {
          "data": {
            "text/plain": [
              "np.float64(0.47208664206608003)"
            ]
          },
          "execution_count": 62,
          "metadata": {},
          "output_type": "execute_result"
        }
      ],
      "source": [
        "df['METVL22_'].isna().sum()/433323"
      ]
    },
    {
      "cell_type": "code",
      "execution_count": 160,
      "metadata": {
        "colab": {
          "base_uri": "https://localhost:8080/",
          "height": 211
        },
        "id": "MrBTIBHxNUdF",
        "outputId": "ad20a5d8-a4a4-4b84-bf1a-4449a6456b83"
      },
      "outputs": [],
      "source": [
        "columns_to_keep = ['_RFHLTH', '_PHYS14D', '_MENT14D', '_HLTHPL1', '_TOTINDA','METVL12_','MAXVO21_', 'FC601_','ACTIN13_','PADUR1_' ,'PAFREQ1_','_MINAC12','STRFREQ_','PAVIG13_', 'PA3MIN_','_PACAT3','_PAINDX3','_PA150R4', '_PA300R4', '_PA30023', '_PASTRNG', '_PAREC3', '_PASTAE3', '_RFHYPE6', '_CHOLCH3', '_RFCHOL3', '_MICHD', '_LTASTH1', '_CASTHM1', '_ASTHMS1', '_DRDXAR2', '_SEX', '_AGE80',   '_BMI5', '_RFBMI5', '_INCOMG1','_RACE', '_EDUCAG','_SMOKER3', '_RFSMOK3', '_CURECI2', 'DROCDY4_', '_RFBING6', '_RFSEAT2','_DRNKWK2']\n",
        "df_filter = df[columns_to_keep]\n",
        "\n",
        "missing_9_columns = ['_RFHLTH', '_PHYS14D', '_MENT14D', '_HLTHPL1', '_TOTINDA', '_PACAT3', '_PA150R4', '_PA300R4', '_PA30023', '_PASTRNG', '_PAREC3', '_PASTAE3', '_RFHYPE6', '_CHOLCH3', '_RFCHOL3', '_LTASTH1', '_CASTHM1', '_ASTHMS1', '_RFBMI5', '_RACE', '_SMOKER3', '_RFSMOK3', '_CURECI2', '_RFBING6','_PAINDX3','_EDUCAG','_INCOMG1','_RFSEAT2']\n",
        "missing_99900_columns = ['MAXVO21_', 'FC601_', '_DRNKWK2']\n",
        "missing_900_columns = ['DROCDY4_']\n",
        "\n",
        "df_filter = df_filter.copy()\n",
        "df_filter.loc[:, missing_9_columns] = df_filter.loc[:, missing_9_columns].replace(9, np.nan)\n",
        "df_filter.loc[:, missing_99900_columns] = df_filter.loc[:, missing_99900_columns].replace(99900, np.nan)\n",
        "df_filter.loc[:, missing_900_columns] = df_filter.loc[:, missing_900_columns].replace(900, np.nan)\n",
        "\n",
        "df_filter = df_filter[df_filter['_MICHD'].notna()] #drop rows where heart disease state is missing"
      ]
    },
    {
      "cell_type": "code",
      "execution_count": 162,
      "metadata": {},
      "outputs": [],
      "source": [
        "df_filter2 = df_filter.drop(columns=['_MICHD']) #drop the target variable\n",
        "\n",
        "#drop columns with NA values > 25%\n",
        "df_filter2 = df_filter2.dropna(thresh=len(df_filter)*0.75, axis=1)"
      ]
    },
    {
      "cell_type": "code",
      "execution_count": 164,
      "metadata": {},
      "outputs": [],
      "source": [
        "columns_to_impute = []\n",
        "\n",
        "for column in df_filter2.columns:\n",
        "    if (df_filter2[column].isna().sum()/433323) < 0.1:\n",
        "        columns_to_impute.append(column)\n",
        "\n",
        "df_filter2 = df_filter2.copy()\n",
        "for column in columns_to_impute:\n",
        "    df_filter2[column].fillna(df_filter2[column].mode()[0], inplace=True)"
      ]
    },
    {
      "cell_type": "code",
      "execution_count": 167,
      "metadata": {},
      "outputs": [],
      "source": [
        "df_clean = df_filter2.dropna()"
      ]
    },
    {
      "cell_type": "code",
      "execution_count": 169,
      "metadata": {},
      "outputs": [],
      "source": [
        "indices = df_clean.index\n",
        "target = df_filter['_MICHD'].loc[indices]"
      ]
    },
    {
      "cell_type": "code",
      "execution_count": 172,
      "metadata": {},
      "outputs": [],
      "source": [
        "target.replace(2, 0, inplace=True) #replace 2 with"
      ]
    },
    {
      "cell_type": "code",
      "execution_count": 175,
      "metadata": {
        "colab": {
          "base_uri": "https://localhost:8080/"
        },
        "id": "fL1XDZoRUUVD",
        "outputId": "d947ce63-b435-43e6-ab90-87fcd4a503dd"
      },
      "outputs": [
        {
          "name": "stdout",
          "output_type": "stream",
          "text": [
            "(244571, 37) (244571,)\n"
          ]
        }
      ],
      "source": [
        "X = df_clean\n",
        "y = target\n",
        "print(X.shape, y.shape)"
      ]
    },
    {
      "cell_type": "code",
      "execution_count": 176,
      "metadata": {},
      "outputs": [
        {
          "data": {
            "text/plain": [
              "_MICHD\n",
              "0.0    222457\n",
              "1.0     22114\n",
              "Name: count, dtype: int64"
            ]
          },
          "execution_count": 176,
          "metadata": {},
          "output_type": "execute_result"
        }
      ],
      "source": [
        "y.value_counts()"
      ]
    },
    {
      "cell_type": "code",
      "execution_count": 210,
      "metadata": {
        "colab": {
          "base_uri": "https://localhost:8080/"
        },
        "id": "8Zgg9oIJWYRC",
        "outputId": "02a21972-d31e-4b31-d23f-939568304b57"
      },
      "outputs": [
        {
          "name": "stdout",
          "output_type": "stream",
          "text": [
            "After SMOTE: (311438, 37) (311438,)\n"
          ]
        }
      ],
      "source": [
        "from sklearn.model_selection import train_test_split\n",
        "from sklearn.metrics import f1_score\n",
        "from sklearn.preprocessing import StandardScaler\n",
        "from xgboost import XGBRFClassifier\n",
        "from imblearn.over_sampling import SMOTE\n",
        "\n",
        "X_train, X_test, y_train, y_test = train_test_split(X, y, test_size=0.3, random_state=42, stratify=y)\n",
        "\n",
        "scaler = StandardScaler()\n",
        "X_train = scaler.fit_transform(X_train)\n",
        "X_test = scaler.transform(X_test)\n",
        "\n",
        "smote = SMOTE(random_state=42)\n",
        "X_train, y_train = smote.fit_resample(X_train, y_train)\n",
        "print(\"After SMOTE:\", X_train.shape, y_train.shape)\n"
      ]
    },
    {
      "cell_type": "markdown",
      "metadata": {},
      "source": [
        "# MODEL TRAINING "
      ]
    },
    {
      "cell_type": "code",
      "execution_count": 191,
      "metadata": {},
      "outputs": [],
      "source": [
        "from sklearn.metrics import accuracy_score, f1_score\n",
        "from sklearn.metrics import confusion_matrix, classification_report\n",
        "from sklearn.model_selection import cross_val_score\n",
        "from sklearn.model_selection import StratifiedKFold, cross_val_score\n",
        "\n",
        "def Get_accuracy_f1(pred, y_test):\n",
        "    accuracy = accuracy_score(y_test, pred)\n",
        "    f1 = f1_score(y_test, pred)\n",
        "    return accuracy, f1\n",
        "\n",
        "def EvaluatePredictions(predictions, y_test, model, train_X):\n",
        "    accuracy, f1 = Get_accuracy_f1(predictions, y_test)\n",
        "    stratified_cv = StratifiedKFold(n_splits=3, shuffle=True, random_state=42)\n",
        "    cv_scores = cross_val_score(model, train_X, y_train, cv=stratified_cv, scoring='f1')\n",
        "    confusion = confusion_matrix(y_test, predictions)\n",
        "    print('accuracy and f1 on test set', accuracy, f1)\n",
        "    print(\"F1 Scores for each fold:\", cv_scores)\n",
        "    print(\"Mean F1 Score:\", cv_scores.mean())\n",
        "    print(confusion)\n",
        "    "
      ]
    },
    {
      "cell_type": "code",
      "execution_count": 194,
      "metadata": {},
      "outputs": [
        {
          "name": "stdout",
          "output_type": "stream",
          "text": [
            "accuracy and f1 on test set 0.7322002943902306 0.34435583436217426\n",
            "F1 Scores for each fold: [0.34606894 0.34378889 0.34916034]\n",
            "Mean F1 Score: 0.3463393909957139\n",
            "[[48563 18175]\n",
            " [ 1474  5160]]\n"
          ]
        }
      ],
      "source": [
        "from sklearn.metrics import confusion_matrix, classification_report\n",
        "from sklearn.model_selection import cross_val_score\n",
        "from sklearn.linear_model import LogisticRegression\n",
        "\n",
        "model_logistic = LogisticRegression(max_iter=1000, C=0.001, penalty='l2',solver='saga',class_weight='balanced')  \n",
        "model_logistic.fit(X_train, y_train)\n",
        "y_pred = model_logistic.predict(X_test)\n",
        "\n",
        "EvaluatePredictions(y_pred, y_test, model_logistic, X_train)\n"
      ]
    },
    {
      "cell_type": "code",
      "execution_count": 208,
      "metadata": {
        "colab": {
          "base_uri": "https://localhost:8080/"
        },
        "id": "NwlknS1MaA1j",
        "outputId": "bf156626-804d-4aff-9257-bb7d4dfc793f"
      },
      "outputs": [
        {
          "name": "stdout",
          "output_type": "stream",
          "text": [
            "accuracy and f1 on test set 0.7558101499762852 0.3338315672058003\n",
            "F1 Scores for each fold: [0.806248   0.80672905 0.80702392]\n",
            "Mean F1 Score: 0.8066669911513795\n",
            "[[84943 26286]\n",
            " [ 3575  7482]]\n"
          ]
        }
      ],
      "source": [
        "model = XGBRFClassifier(\n",
        "    n_estimators=500,\n",
        "    learning_rate=0.01,\n",
        "    max_depth=5,\n",
        "    random_state=42,\n",
        "    eval_metric='logloss'\n",
        "    \n",
        ")\n",
        "model.fit(X_train, y_train)\n",
        "\n",
        "y_pred = model.predict(X_test)\n",
        "\n",
        "EvaluatePredictions(y_pred, y_test, model, X_train)"
      ]
    },
    {
      "cell_type": "code",
      "execution_count": 211,
      "metadata": {},
      "outputs": [
        {
          "name": "stdout",
          "output_type": "stream",
          "text": [
            "accuracy and f1 on test set 0.6694651910810664 0.30077269057778805\n",
            "F1 Scores for each fold: [0.78265117 0.78237918 0.78156288]\n",
            "Mean F1 Score: 0.7821977442296385\n",
            "[[43904 22834]\n",
            " [ 1418  5216]]\n"
          ]
        }
      ],
      "source": [
        "from sklearn.ensemble import RandomForestClassifier\n",
        "\n",
        "rf_model = RandomForestClassifier(n_estimators=200, max_depth=2, random_state=0,class_weight='balanced')\n",
        "rf_model.fit(X_train, y_train)\n",
        "y_pred = rf_model.predict(X_test)\n",
        "\n",
        "EvaluatePredictions(y_pred, y_test, rf_model, X_train)\n"
      ]
    },
    {
      "cell_type": "code",
      "execution_count": 212,
      "metadata": {},
      "outputs": [
        {
          "name": "stdout",
          "output_type": "stream",
          "text": [
            "accuracy and f1 on test set 0.6953061113231206 0.31766573068001464\n",
            "F1 Scores for each fold: [0.80097646 0.80039293 0.79924542]\n",
            "Mean F1 Score: 0.8002049358475816\n",
            "[[45812 20926]\n",
            " [ 1430  5204]]\n"
          ]
        }
      ],
      "source": [
        "from sklearn.ensemble import RandomForestClassifier\n",
        "\n",
        "rf_model = RandomForestClassifier(n_estimators=400, max_depth=3, random_state=0,class_weight='balanced')\n",
        "rf_model.fit(X_train, y_train)\n",
        "y_pred = rf_model.predict(X_test)\n",
        "\n",
        "EvaluatePredictions(y_pred, y_test, rf_model, X_train)"
      ]
    }
  ],
  "metadata": {
    "colab": {
      "provenance": []
    },
    "kernelspec": {
      "display_name": "Python 3",
      "name": "python3"
    },
    "language_info": {
      "codemirror_mode": {
        "name": "ipython",
        "version": 3
      },
      "file_extension": ".py",
      "mimetype": "text/x-python",
      "name": "python",
      "nbconvert_exporter": "python",
      "pygments_lexer": "ipython3",
      "version": "3.12.5"
    }
  },
  "nbformat": 4,
  "nbformat_minor": 0
}
